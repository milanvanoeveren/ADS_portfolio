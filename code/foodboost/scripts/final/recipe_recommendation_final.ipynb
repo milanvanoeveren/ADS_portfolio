{
 "cells": [
  {
   "cell_type": "markdown",
   "source": [
    "Imports"
   ],
   "metadata": {
    "collapsed": false,
    "pycharm": {
     "name": "#%% md\n"
    }
   }
  },
  {
   "cell_type": "code",
   "execution_count": 103,
   "outputs": [],
   "source": [
    "import pandas as pd\n",
    "from sklearn.feature_extraction.text import TfidfVectorizer\n",
    "from sklearn.metrics.pairwise import cosine_similarity\n"
   ],
   "metadata": {
    "collapsed": false,
    "pycharm": {
     "name": "#%%\n"
    }
   }
  },
  {
   "cell_type": "markdown",
   "source": [
    "Get userdata"
   ],
   "metadata": {
    "collapsed": false,
    "pycharm": {
     "name": "#%% md\n"
    }
   }
  },
  {
   "cell_type": "code",
   "execution_count": 104,
   "outputs": [
    {
     "data": {
      "text/plain": "     user_id  kokosmelk  water  chilivlokken  gemalen kaneel  sjalot  \\\n0          1          0      0             1               1       1   \n1          2          0      0             0               0       1   \n2          3          0      1             0               0       1   \n3          4          0      0             0               0       0   \n4          5          0      0             0               0       0   \n..       ...        ...    ...           ...             ...     ...   \n599      600          0      0             0               1       0   \n600      601          0      0             0               0       1   \n601      602          0      1             0               0       0   \n602      603          0      0             0               1       0   \n603      604          0      0             1               0       0   \n\n     knoflook  rode peper  zout  vastkokende aardappel  ...  tomatenblokjes  \\\n0           1           0     1                      0  ...               0   \n1           1           0     0                      1  ...               0   \n2           1           0     1                      0  ...               0   \n3           1           0     1                      0  ...               0   \n4           1           0     0                      1  ...               0   \n..        ...         ...   ...                    ...  ...             ...   \n599         1           0     0                      0  ...               1   \n600         1           0     0                      0  ...               0   \n601         1           0     1                      0  ...               1   \n602         1           0     0                      0  ...               0   \n603         1           0     0                      0  ...               0   \n\n     zoete puntpaprika  (olijf)olie  kruimige aardappelen  \\\n0                    0            0                     0   \n1                    0            0                     0   \n2                    0            0                     0   \n3                    0            0                     1   \n4                    0            0                     0   \n..                 ...          ...                   ...   \n599                  0            1                     0   \n600                  0            0                     0   \n601                  0            0                     0   \n602                  0            0                     0   \n603                  0            0                     1   \n\n     magere gerookte spekreepjes  takje rozemarijn  boter  aardappelen  \\\n0                              0                 1      0            0   \n1                              0                 0      0            0   \n2                              1                 0      0            0   \n3                              0                 0      1            0   \n4                              0                 0      0            0   \n..                           ...               ...    ...          ...   \n599                            0                 1      0            0   \n600                            0                 0      0            0   \n601                            0                 0      0            0   \n602                            0                 0      0            0   \n603                            1                 0      0            0   \n\n         kitchen                                      liked_recipes  \n0          frans                                                NaN  \n1          frans                                                NaN  \n2          frans                                                NaN  \n3          frans                                                NaN  \n4          frans                                                NaN  \n..           ...                                                ...  \n599  mediterraan                                                NaN  \n600         geen  [541, 45, 958, 3356, 4008, 1394, 4138, 4190, 6...  \n601         geen  [48, 4189, 792, 2082, 4512, 4556, 379, 721, 84...  \n602         geen  [2919, 1376, 1697, 4323, 2502, 4011, 3264, 356...  \n603         geen  [3499, 3842, 2868, 950, 2988, 3233, 464, 2989,...  \n\n[604 rows x 176 columns]",
      "text/html": "<div>\n<style scoped>\n    .dataframe tbody tr th:only-of-type {\n        vertical-align: middle;\n    }\n\n    .dataframe tbody tr th {\n        vertical-align: top;\n    }\n\n    .dataframe thead th {\n        text-align: right;\n    }\n</style>\n<table border=\"1\" class=\"dataframe\">\n  <thead>\n    <tr style=\"text-align: right;\">\n      <th></th>\n      <th>user_id</th>\n      <th>kokosmelk</th>\n      <th>water</th>\n      <th>chilivlokken</th>\n      <th>gemalen kaneel</th>\n      <th>sjalot</th>\n      <th>knoflook</th>\n      <th>rode peper</th>\n      <th>zout</th>\n      <th>vastkokende aardappel</th>\n      <th>...</th>\n      <th>tomatenblokjes</th>\n      <th>zoete puntpaprika</th>\n      <th>(olijf)olie</th>\n      <th>kruimige aardappelen</th>\n      <th>magere gerookte spekreepjes</th>\n      <th>takje rozemarijn</th>\n      <th>boter</th>\n      <th>aardappelen</th>\n      <th>kitchen</th>\n      <th>liked_recipes</th>\n    </tr>\n  </thead>\n  <tbody>\n    <tr>\n      <th>0</th>\n      <td>1</td>\n      <td>0</td>\n      <td>0</td>\n      <td>1</td>\n      <td>1</td>\n      <td>1</td>\n      <td>1</td>\n      <td>0</td>\n      <td>1</td>\n      <td>0</td>\n      <td>...</td>\n      <td>0</td>\n      <td>0</td>\n      <td>0</td>\n      <td>0</td>\n      <td>0</td>\n      <td>1</td>\n      <td>0</td>\n      <td>0</td>\n      <td>frans</td>\n      <td>NaN</td>\n    </tr>\n    <tr>\n      <th>1</th>\n      <td>2</td>\n      <td>0</td>\n      <td>0</td>\n      <td>0</td>\n      <td>0</td>\n      <td>1</td>\n      <td>1</td>\n      <td>0</td>\n      <td>0</td>\n      <td>1</td>\n      <td>...</td>\n      <td>0</td>\n      <td>0</td>\n      <td>0</td>\n      <td>0</td>\n      <td>0</td>\n      <td>0</td>\n      <td>0</td>\n      <td>0</td>\n      <td>frans</td>\n      <td>NaN</td>\n    </tr>\n    <tr>\n      <th>2</th>\n      <td>3</td>\n      <td>0</td>\n      <td>1</td>\n      <td>0</td>\n      <td>0</td>\n      <td>1</td>\n      <td>1</td>\n      <td>0</td>\n      <td>1</td>\n      <td>0</td>\n      <td>...</td>\n      <td>0</td>\n      <td>0</td>\n      <td>0</td>\n      <td>0</td>\n      <td>1</td>\n      <td>0</td>\n      <td>0</td>\n      <td>0</td>\n      <td>frans</td>\n      <td>NaN</td>\n    </tr>\n    <tr>\n      <th>3</th>\n      <td>4</td>\n      <td>0</td>\n      <td>0</td>\n      <td>0</td>\n      <td>0</td>\n      <td>0</td>\n      <td>1</td>\n      <td>0</td>\n      <td>1</td>\n      <td>0</td>\n      <td>...</td>\n      <td>0</td>\n      <td>0</td>\n      <td>0</td>\n      <td>1</td>\n      <td>0</td>\n      <td>0</td>\n      <td>1</td>\n      <td>0</td>\n      <td>frans</td>\n      <td>NaN</td>\n    </tr>\n    <tr>\n      <th>4</th>\n      <td>5</td>\n      <td>0</td>\n      <td>0</td>\n      <td>0</td>\n      <td>0</td>\n      <td>0</td>\n      <td>1</td>\n      <td>0</td>\n      <td>0</td>\n      <td>1</td>\n      <td>...</td>\n      <td>0</td>\n      <td>0</td>\n      <td>0</td>\n      <td>0</td>\n      <td>0</td>\n      <td>0</td>\n      <td>0</td>\n      <td>0</td>\n      <td>frans</td>\n      <td>NaN</td>\n    </tr>\n    <tr>\n      <th>...</th>\n      <td>...</td>\n      <td>...</td>\n      <td>...</td>\n      <td>...</td>\n      <td>...</td>\n      <td>...</td>\n      <td>...</td>\n      <td>...</td>\n      <td>...</td>\n      <td>...</td>\n      <td>...</td>\n      <td>...</td>\n      <td>...</td>\n      <td>...</td>\n      <td>...</td>\n      <td>...</td>\n      <td>...</td>\n      <td>...</td>\n      <td>...</td>\n      <td>...</td>\n      <td>...</td>\n    </tr>\n    <tr>\n      <th>599</th>\n      <td>600</td>\n      <td>0</td>\n      <td>0</td>\n      <td>0</td>\n      <td>1</td>\n      <td>0</td>\n      <td>1</td>\n      <td>0</td>\n      <td>0</td>\n      <td>0</td>\n      <td>...</td>\n      <td>1</td>\n      <td>0</td>\n      <td>1</td>\n      <td>0</td>\n      <td>0</td>\n      <td>1</td>\n      <td>0</td>\n      <td>0</td>\n      <td>mediterraan</td>\n      <td>NaN</td>\n    </tr>\n    <tr>\n      <th>600</th>\n      <td>601</td>\n      <td>0</td>\n      <td>0</td>\n      <td>0</td>\n      <td>0</td>\n      <td>1</td>\n      <td>1</td>\n      <td>0</td>\n      <td>0</td>\n      <td>0</td>\n      <td>...</td>\n      <td>0</td>\n      <td>0</td>\n      <td>0</td>\n      <td>0</td>\n      <td>0</td>\n      <td>0</td>\n      <td>0</td>\n      <td>0</td>\n      <td>geen</td>\n      <td>[541, 45, 958, 3356, 4008, 1394, 4138, 4190, 6...</td>\n    </tr>\n    <tr>\n      <th>601</th>\n      <td>602</td>\n      <td>0</td>\n      <td>1</td>\n      <td>0</td>\n      <td>0</td>\n      <td>0</td>\n      <td>1</td>\n      <td>0</td>\n      <td>1</td>\n      <td>0</td>\n      <td>...</td>\n      <td>1</td>\n      <td>0</td>\n      <td>0</td>\n      <td>0</td>\n      <td>0</td>\n      <td>0</td>\n      <td>0</td>\n      <td>0</td>\n      <td>geen</td>\n      <td>[48, 4189, 792, 2082, 4512, 4556, 379, 721, 84...</td>\n    </tr>\n    <tr>\n      <th>602</th>\n      <td>603</td>\n      <td>0</td>\n      <td>0</td>\n      <td>0</td>\n      <td>1</td>\n      <td>0</td>\n      <td>1</td>\n      <td>0</td>\n      <td>0</td>\n      <td>0</td>\n      <td>...</td>\n      <td>0</td>\n      <td>0</td>\n      <td>0</td>\n      <td>0</td>\n      <td>0</td>\n      <td>0</td>\n      <td>0</td>\n      <td>0</td>\n      <td>geen</td>\n      <td>[2919, 1376, 1697, 4323, 2502, 4011, 3264, 356...</td>\n    </tr>\n    <tr>\n      <th>603</th>\n      <td>604</td>\n      <td>0</td>\n      <td>0</td>\n      <td>1</td>\n      <td>0</td>\n      <td>0</td>\n      <td>1</td>\n      <td>0</td>\n      <td>0</td>\n      <td>0</td>\n      <td>...</td>\n      <td>0</td>\n      <td>0</td>\n      <td>0</td>\n      <td>1</td>\n      <td>1</td>\n      <td>0</td>\n      <td>0</td>\n      <td>0</td>\n      <td>geen</td>\n      <td>[3499, 3842, 2868, 950, 2988, 3233, 464, 2989,...</td>\n    </tr>\n  </tbody>\n</table>\n<p>604 rows × 176 columns</p>\n</div>"
     },
     "execution_count": 104,
     "metadata": {},
     "output_type": "execute_result"
    }
   ],
   "source": [
    "df_userdata = pd.read_csv('../assets/userdata_min_40_v4.csv')\n",
    "df_userdata = df_userdata.drop(df_userdata.columns[1:11], axis=1)\n",
    "df_userdata"
   ],
   "metadata": {
    "collapsed": false,
    "pycharm": {
     "name": "#%%\n"
    }
   }
  },
  {
   "cell_type": "markdown",
   "source": [
    "Get all ingredients"
   ],
   "metadata": {
    "collapsed": false,
    "pycharm": {
     "name": "#%% md\n"
    }
   }
  },
  {
   "cell_type": "code",
   "execution_count": 105,
   "outputs": [
    {
     "name": "stdout",
     "output_type": "stream",
     "text": [
      "['kokosmelk', 'water', 'chilivlokken', 'gemalen kaneel', 'sjalot', 'knoflook', 'rode peper', 'zout', 'vastkokende aardappel', 'zoete aardappel', 'vissaus', 'middelgrote ui', 'ongezouten roomboter', 'droge witte wijn', 'verse slagroom', 'limoen', 'arachideolie', 'ketjap manis', 'bloemkool', 'rundergehakt', 'tarwebloem', 'gemalen nootmuskaat', 'middelgroot ei', 'paprikamix', 'trostomaat', 'mozzarella', 'salade-ui', 'spaghetti', 'milde olijfolie', 'balsamicoazijn', 'komkommer', 'cherrytomaten', 'broccoli', 'champignons', 'verse peterselie', 'verse koriander', 'winterpeen', 'babyromainesla', 'citroen', 'verse spinazie', 'gesneden uien', 'romaatjes', 'halfvolle melk', 'groentebouillontablet', 'kokend water', 'taugé', 'rode ui', 'kipdijfilet', 'zonnebloemolie', 'couscous', 'eetrijpe avocado', 'snoepgroente tomatenmix', 'prei', 'verse tijm', 'verse platte peterselie', 'bloem', 'kastanjechampignon', 'ketchup', 'kruimige aardappel', 'rucola', 'knolselderij', 'verse bieslook', 'dijonmosterd', 'crème fraîche', 'vloeibare honing', 'paprikapoeder', 'pastinaak', 'venkelzaad', 'vers bladerdeeg', 'grove mosterd', 'ongebrande walnoten', 'verse dille', 'runderbouillontablet', 'Parmezaanse kaas', 'kikkererwten in blik', 'avocado', 'zilvervliesrijst', 'sojasaus', 'gemalen komijn', 'gepelde tomaten in blik', 'ricotta', 'tomaten', 'tomatenpuree', 'biefstuk', 'sperziebonen', 'heet water', 'verse basilicum', 'gedroogde Italiaanse kruiden', 'kerriepoeder', 'gedroogde tijm', 'rode paprika', 'kipfilet', 'bleekselderij', 'gedroogde oregano', 'courgette', 'verse munt', 'verse selderij', 'venkelknol', 'sesamolie', 'verse zalmfilet', 'half-om-halfgehakt', 'kappertjes', 'aubergine', 'rode puntpaprika', 'witte kaas', 'feta', 'extra vierge olijfolie', 'pijnboompitten', 'traditionele olijfolie', 'zoete chilisaus', 'gedroogde dragon', 'kippenbouillontablet', 'diepvries tuinerwten', 'veldsla', 'broccolirijst', 'sesamzaad', 'verse gember', 'krieltjes', 'verse sperziebonen', 'Tasty Tom trostomaat', 'rodewijnazijn', 'tomaat', 'verse groene asperge', 'paneermeel', 'kropsla', 'basmatirijst', 'kristalsuiker', 'varkenshaas', 'mayonaise', 'groene paprika', 'radijs', 'paksoi', 'tuinkers', 'witbrood', 'ui', 'Griekse yoghurt', 'gele paprika', 'peen julienne', 'witlof', 'gebakken uitjes', 'witte rijst', 'azijn', 'gesneden spitskool', 'Japanse sojasaus', 'Pecorino Romano', 'penne', 'olijfolie', 'amandelschaafsel', 'gnocchi', 'risottorijst', 'gedroogde rozemarijn', 'bosuitje', 'Parmigiano Reggiano', 'gesneden prei', 'bosui', 'mais in blik', 'kraanwater', 'rozijnen', 'iets kruimige aardappelen', 'fusilli', 'gedroogde laurierblaadjes', 'uien', 'Franse mosterd', 'kippenbouillon van tablet', '(arachide)olie', 'tomatenblokjes', 'zoete puntpaprika', '(olijf)olie', 'kruimige aardappelen', 'magere gerookte spekreepjes', 'takje rozemarijn', 'boter', 'aardappelen']\n"
     ]
    }
   ],
   "source": [
    "df_recipes_min_40 = pd.read_csv(\"../assets/recipes_min_40.csv\")\n",
    "\n",
    "filtered_recipes = df_recipes_min_40\n",
    "first_ingredient_index = filtered_recipes.columns.get_loc(\"tag_end\") + 1\n",
    "\n",
    "all_ingredients = df_recipes_min_40.columns.values[first_ingredient_index:].tolist()\n",
    "print(all_ingredients)"
   ],
   "metadata": {
    "collapsed": false,
    "pycharm": {
     "name": "#%%\n"
    }
   }
  },
  {
   "cell_type": "markdown",
   "source": [
    "Convert userdata dataframe to strings"
   ],
   "metadata": {
    "collapsed": false,
    "pycharm": {
     "name": "#%% md\n"
    }
   }
  },
  {
   "cell_type": "code",
   "execution_count": 106,
   "outputs": [
    {
     "data": {
      "text/plain": "    user_id                                        ingredients  \\\n0         1   chilivlokken gemalen kaneel sjalot knoflook z...   \n1         2   sjalot knoflook vastkokende aardappel ongezou...   \n2         3   water sjalot knoflook zout ongezouten roombot...   \n3         4   knoflook zout ongezouten roomboter droge witt...   \n4         5   knoflook vastkokende aardappel arachideolie m...   \n..      ...                                                ...   \n599     600   gemalen kaneel knoflook arachideolie bloemkoo...   \n600     601   sjalot knoflook ongezouten roomboter verse sl...   \n601     602   water knoflook zout ongezouten roomboter arac...   \n602     603   gemalen kaneel knoflook zoete aardappel droge...   \n603     604   chilivlokken knoflook ongezouten roomboter mi...   \n\n                                         liked_recipes  \n0                                                  NaN  \n1                                                  NaN  \n2                                                  NaN  \n3                                                  NaN  \n4                                                  NaN  \n..                                                 ...  \n599                                                NaN  \n600  [541, 45, 958, 3356, 4008, 1394, 4138, 4190, 6...  \n601  [48, 4189, 792, 2082, 4512, 4556, 379, 721, 84...  \n602  [2919, 1376, 1697, 4323, 2502, 4011, 3264, 356...  \n603  [3499, 3842, 2868, 950, 2988, 3233, 464, 2989,...  \n\n[604 rows x 3 columns]",
      "text/html": "<div>\n<style scoped>\n    .dataframe tbody tr th:only-of-type {\n        vertical-align: middle;\n    }\n\n    .dataframe tbody tr th {\n        vertical-align: top;\n    }\n\n    .dataframe thead th {\n        text-align: right;\n    }\n</style>\n<table border=\"1\" class=\"dataframe\">\n  <thead>\n    <tr style=\"text-align: right;\">\n      <th></th>\n      <th>user_id</th>\n      <th>ingredients</th>\n      <th>liked_recipes</th>\n    </tr>\n  </thead>\n  <tbody>\n    <tr>\n      <th>0</th>\n      <td>1</td>\n      <td>chilivlokken gemalen kaneel sjalot knoflook z...</td>\n      <td>NaN</td>\n    </tr>\n    <tr>\n      <th>1</th>\n      <td>2</td>\n      <td>sjalot knoflook vastkokende aardappel ongezou...</td>\n      <td>NaN</td>\n    </tr>\n    <tr>\n      <th>2</th>\n      <td>3</td>\n      <td>water sjalot knoflook zout ongezouten roombot...</td>\n      <td>NaN</td>\n    </tr>\n    <tr>\n      <th>3</th>\n      <td>4</td>\n      <td>knoflook zout ongezouten roomboter droge witt...</td>\n      <td>NaN</td>\n    </tr>\n    <tr>\n      <th>4</th>\n      <td>5</td>\n      <td>knoflook vastkokende aardappel arachideolie m...</td>\n      <td>NaN</td>\n    </tr>\n    <tr>\n      <th>...</th>\n      <td>...</td>\n      <td>...</td>\n      <td>...</td>\n    </tr>\n    <tr>\n      <th>599</th>\n      <td>600</td>\n      <td>gemalen kaneel knoflook arachideolie bloemkoo...</td>\n      <td>NaN</td>\n    </tr>\n    <tr>\n      <th>600</th>\n      <td>601</td>\n      <td>sjalot knoflook ongezouten roomboter verse sl...</td>\n      <td>[541, 45, 958, 3356, 4008, 1394, 4138, 4190, 6...</td>\n    </tr>\n    <tr>\n      <th>601</th>\n      <td>602</td>\n      <td>water knoflook zout ongezouten roomboter arac...</td>\n      <td>[48, 4189, 792, 2082, 4512, 4556, 379, 721, 84...</td>\n    </tr>\n    <tr>\n      <th>602</th>\n      <td>603</td>\n      <td>gemalen kaneel knoflook zoete aardappel droge...</td>\n      <td>[2919, 1376, 1697, 4323, 2502, 4011, 3264, 356...</td>\n    </tr>\n    <tr>\n      <th>603</th>\n      <td>604</td>\n      <td>chilivlokken knoflook ongezouten roomboter mi...</td>\n      <td>[3499, 3842, 2868, 950, 2988, 3233, 464, 2989,...</td>\n    </tr>\n  </tbody>\n</table>\n<p>604 rows × 3 columns</p>\n</div>"
     },
     "execution_count": 106,
     "metadata": {},
     "output_type": "execute_result"
    }
   ],
   "source": [
    "df_converted_userdata = pd.DataFrame(columns=['user_id', 'ingredients'])\n",
    "\n",
    "for index, row in df_userdata.iterrows():\n",
    "    user_ingredients = \"\"\n",
    "\n",
    "    for ingredient in all_ingredients:\n",
    "        if row[ingredient] == 1:\n",
    "            user_ingredients += \" \" + ingredient\n",
    "\n",
    "    user_row = {'user_id': row['user_id'], 'ingredients': user_ingredients, 'liked_recipes': row['liked_recipes']}\n",
    "    df_converted_userdata = pd.concat([df_converted_userdata, pd.DataFrame.from_records([user_row])], ignore_index=True)\n",
    "\n",
    "df_converted_userdata"
   ],
   "metadata": {
    "collapsed": false,
    "pycharm": {
     "name": "#%%\n"
    }
   }
  },
  {
   "cell_type": "markdown",
   "source": [
    "Add user row to recipes (to compare)"
   ],
   "metadata": {
    "collapsed": false,
    "pycharm": {
     "name": "#%% md\n"
    }
   }
  },
  {
   "cell_type": "code",
   "execution_count": 107,
   "outputs": [
    {
     "data": {
      "text/plain": "  index      name                                        ingredients\n0     0  user_row   chilivlokken knoflook ongezouten roomboter mi...",
      "text/html": "<div>\n<style scoped>\n    .dataframe tbody tr th:only-of-type {\n        vertical-align: middle;\n    }\n\n    .dataframe tbody tr th {\n        vertical-align: top;\n    }\n\n    .dataframe thead th {\n        text-align: right;\n    }\n</style>\n<table border=\"1\" class=\"dataframe\">\n  <thead>\n    <tr style=\"text-align: right;\">\n      <th></th>\n      <th>index</th>\n      <th>name</th>\n      <th>ingredients</th>\n    </tr>\n  </thead>\n  <tbody>\n    <tr>\n      <th>0</th>\n      <td>0</td>\n      <td>user_row</td>\n      <td>chilivlokken knoflook ongezouten roomboter mi...</td>\n    </tr>\n  </tbody>\n</table>\n</div>"
     },
     "execution_count": 107,
     "metadata": {},
     "output_type": "execute_result"
    }
   ],
   "source": [
    "import ast\n",
    "\n",
    "df_converted_recipes = pd.DataFrame(columns=['index', 'name'])\n",
    "\n",
    "recipe_row = {'index': 0, 'name': 'user_row', 'ingredients': df_converted_userdata.iloc[-1].ingredients}\n",
    "df_converted_recipes = pd.concat([df_converted_recipes, pd.DataFrame.from_records([recipe_row])], ignore_index=True)\n",
    "\n",
    "df_converted_recipes"
   ],
   "metadata": {
    "collapsed": false,
    "pycharm": {
     "name": "#%%\n"
    }
   }
  },
  {
   "cell_type": "markdown",
   "source": [
    "Convert recipe dataframe to strings"
   ],
   "metadata": {
    "collapsed": false,
    "pycharm": {
     "name": "#%% md\n"
    }
   }
  },
  {
   "cell_type": "code",
   "execution_count": 108,
   "outputs": [
    {
     "data": {
      "text/plain": "     index                              name  \\\n0        0                          user_row   \n1        1                    Massaman curry   \n2        2                       Tartiflette   \n3        3                      Ajam pangang   \n4        4                  Bloemkoolschotel   \n...    ...                               ...   \n4580  4590     Thaise kipcurry met aubergine   \n4581  4591  Romige spaghetti met zalmreepjes   \n4582  4592           Tijmballetjes met puree   \n4583  4593         Romige mosselen met dille   \n4584  4594             Mosselen op z'n Thais   \n\n                                            ingredients  \n0      chilivlokken knoflook ongezouten roomboter mi...  \n1      kokosmelk water chilivlokken gemalen kaneel s...  \n2      knoflook vastkokende aardappel middelgrote ui...  \n3      water sjalot knoflook rode peper zout ongezou...  \n4      knoflook ongezouten roomboter bloemkool runde...  \n...                                                 ...  \n4580    kokosmelk zonnebloemolie aubergine basmatirijst  \n4581   spaghetti cherrytomaten courgette traditionel...  \n4582        halfvolle melk paneermeel boter aardappelen  \n4583   droge witte wijn grove mosterd bleekselderij ...  \n4584   kokosmelk knoflook rode peper zonnebloemolie ...  \n\n[4585 rows x 3 columns]",
      "text/html": "<div>\n<style scoped>\n    .dataframe tbody tr th:only-of-type {\n        vertical-align: middle;\n    }\n\n    .dataframe tbody tr th {\n        vertical-align: top;\n    }\n\n    .dataframe thead th {\n        text-align: right;\n    }\n</style>\n<table border=\"1\" class=\"dataframe\">\n  <thead>\n    <tr style=\"text-align: right;\">\n      <th></th>\n      <th>index</th>\n      <th>name</th>\n      <th>ingredients</th>\n    </tr>\n  </thead>\n  <tbody>\n    <tr>\n      <th>0</th>\n      <td>0</td>\n      <td>user_row</td>\n      <td>chilivlokken knoflook ongezouten roomboter mi...</td>\n    </tr>\n    <tr>\n      <th>1</th>\n      <td>1</td>\n      <td>Massaman curry</td>\n      <td>kokosmelk water chilivlokken gemalen kaneel s...</td>\n    </tr>\n    <tr>\n      <th>2</th>\n      <td>2</td>\n      <td>Tartiflette</td>\n      <td>knoflook vastkokende aardappel middelgrote ui...</td>\n    </tr>\n    <tr>\n      <th>3</th>\n      <td>3</td>\n      <td>Ajam pangang</td>\n      <td>water sjalot knoflook rode peper zout ongezou...</td>\n    </tr>\n    <tr>\n      <th>4</th>\n      <td>4</td>\n      <td>Bloemkoolschotel</td>\n      <td>knoflook ongezouten roomboter bloemkool runde...</td>\n    </tr>\n    <tr>\n      <th>...</th>\n      <td>...</td>\n      <td>...</td>\n      <td>...</td>\n    </tr>\n    <tr>\n      <th>4580</th>\n      <td>4590</td>\n      <td>Thaise kipcurry met aubergine</td>\n      <td>kokosmelk zonnebloemolie aubergine basmatirijst</td>\n    </tr>\n    <tr>\n      <th>4581</th>\n      <td>4591</td>\n      <td>Romige spaghetti met zalmreepjes</td>\n      <td>spaghetti cherrytomaten courgette traditionel...</td>\n    </tr>\n    <tr>\n      <th>4582</th>\n      <td>4592</td>\n      <td>Tijmballetjes met puree</td>\n      <td>halfvolle melk paneermeel boter aardappelen</td>\n    </tr>\n    <tr>\n      <th>4583</th>\n      <td>4593</td>\n      <td>Romige mosselen met dille</td>\n      <td>droge witte wijn grove mosterd bleekselderij ...</td>\n    </tr>\n    <tr>\n      <th>4584</th>\n      <td>4594</td>\n      <td>Mosselen op z'n Thais</td>\n      <td>kokosmelk knoflook rode peper zonnebloemolie ...</td>\n    </tr>\n  </tbody>\n</table>\n<p>4585 rows × 3 columns</p>\n</div>"
     },
     "execution_count": 108,
     "metadata": {},
     "output_type": "execute_result"
    }
   ],
   "source": [
    "liked_recipes_indexes = ast.literal_eval(df_converted_userdata.iloc[-1].liked_recipes)\n",
    "\n",
    "for index, row in df_recipes_min_40.iterrows():\n",
    "\n",
    "    recipe_ingredients = \"\"\n",
    "\n",
    "    for ingredient in all_ingredients:\n",
    "        if row[ingredient] == 1:\n",
    "            recipe_ingredients += \" \" + ingredient\n",
    "\n",
    "    recipe_row = {'index': row['index'] + 1, 'name': row['name'], 'ingredients': recipe_ingredients}\n",
    "\n",
    "    if row['index'] not in liked_recipes_indexes:\n",
    "        df_converted_recipes = pd.concat([df_converted_recipes, pd.DataFrame.from_records([recipe_row])], ignore_index=True)\n",
    "\n",
    "df_converted_recipes"
   ],
   "metadata": {
    "collapsed": false,
    "pycharm": {
     "name": "#%%\n"
    }
   }
  },
  {
   "cell_type": "markdown",
   "source": [
    "Compare user ingredients to recipes"
   ],
   "metadata": {
    "collapsed": false,
    "pycharm": {
     "name": "#%% md\n"
    }
   }
  },
  {
   "cell_type": "code",
   "execution_count": 111,
   "outputs": [
    {
     "name": "stdout",
     "output_type": "stream",
     "text": [
      "Recipes suggested for you : \n",
      "\n",
      "1. Lentequiches met pecorino en ham\n",
      "2. Snelle Spaanse tomatenstoof met gehaktballetjes\n",
      "3. Ovenschotel met gehakt en spitskool\n",
      "4. Flammkuchen met gruyère en groene asperges\n",
      "5. Cevapcici (worstjes uit de balkan)\n",
      "6. Gnocchi met mosterd-roomsaus\n",
      "7. Pasta met kipballetjes en tomaat uit de oven\n",
      "8. Gnocchi carbonara\n",
      "9. Hollandse makreelkoekjes met maiskolven \n",
      "10. Gebakken witlof met romige kruidenpuree\n"
     ]
    }
   ],
   "source": [
    "combined_features = df_converted_recipes['ingredients']\n",
    "\n",
    "vectorizer = TfidfVectorizer()\n",
    "feature_vectors = vectorizer.fit_transform(combined_features)\n",
    "\n",
    "similarity = cosine_similarity(feature_vectors)\n",
    "\n",
    "similarity_score = list(enumerate(similarity[0]))\n",
    "sorted_similar_recipes = sorted(similarity_score, key=lambda x: x[1], reverse=True)\n",
    "\n",
    "print('Recipes suggested for you : \\n')\n",
    "\n",
    "i = 1\n",
    "for recipe in sorted_similar_recipes[1:]:\n",
    "    index = recipe[0]\n",
    "    name_from_index = df_converted_recipes[df_converted_recipes.index == index]['name'].values[0]\n",
    "    if i <= 10:\n",
    "        print(str(i) + '.', name_from_index)\n",
    "        i += 1\n"
   ],
   "metadata": {
    "collapsed": false,
    "pycharm": {
     "name": "#%%\n"
    }
   }
  }
 ],
 "metadata": {
  "kernelspec": {
   "name": "python3",
   "language": "python",
   "display_name": "Python 3 (ipykernel)"
  },
  "language_info": {
   "codemirror_mode": {
    "name": "ipython",
    "version": 3
   },
   "file_extension": ".py",
   "mimetype": "text/x-python",
   "name": "python",
   "nbconvert_exporter": "python",
   "pygments_lexer": "ipython3",
   "version": "3.9.13"
  }
 },
 "nbformat": 4,
 "nbformat_minor": 5
}
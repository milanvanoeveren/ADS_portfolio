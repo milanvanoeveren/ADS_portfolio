{
 "cells": [
  {
   "cell_type": "code",
   "execution_count": 37,
   "id": "462505e0",
   "metadata": {
    "scrolled": true,
    "pycharm": {
     "name": "#%%\n"
    }
   },
   "outputs": [
    {
     "data": {
      "text/plain": "     kokosmelk  water  chilivlokken  gemalen kaneel  sjalot  knoflook  \\\n0            0      0             1               1       1         1   \n1            0      0             0               0       1         1   \n2            0      1             0               0       1         1   \n3            0      0             0               0       0         1   \n4            0      0             0               0       0         1   \n..         ...    ...           ...             ...     ...       ...   \n595          0      0             0               0       1         1   \n596          0      1             0               0       0         1   \n597          0      0             0               0       0         1   \n598          0      0             0               0       1         1   \n599          0      0             0               1       0         1   \n\n     rode peper  zout  vastkokende aardappel  zoete aardappel  ...  \\\n0             0     1                      0                0  ...   \n1             0     0                      1                0  ...   \n2             0     1                      0                0  ...   \n3             0     1                      0                0  ...   \n4             0     0                      1                0  ...   \n..          ...   ...                    ...              ...  ...   \n595           0     0                      0                0  ...   \n596           0     0                      0                0  ...   \n597           0     0                      0                0  ...   \n598           1     0                      0                0  ...   \n599           0     0                      0                0  ...   \n\n     (arachide)olie  tomatenblokjes  zoete puntpaprika  (olijf)olie  \\\n0                 0               0                  0            0   \n1                 0               0                  0            0   \n2                 0               0                  0            0   \n3                 0               0                  0            0   \n4                 0               0                  0            0   \n..              ...             ...                ...          ...   \n595               1               0                  1            0   \n596               0               0                  0            0   \n597               0               0                  1            0   \n598               0               1                  0            1   \n599               0               1                  0            1   \n\n     kruimige aardappelen  magere gerookte spekreepjes  takje rozemarijn  \\\n0                       0                            0                 1   \n1                       0                            0                 0   \n2                       0                            1                 0   \n3                       1                            0                 0   \n4                       0                            0                 0   \n..                    ...                          ...               ...   \n595                     0                            0                 0   \n596                     0                            0                 0   \n597                     0                            0                 0   \n598                     0                            0                 0   \n599                     0                            0                 1   \n\n     boter  aardappelen      kitchen  \n0        0            0        frans  \n1        0            0        frans  \n2        0            0        frans  \n3        1            0        frans  \n4        0            0        frans  \n..     ...          ...          ...  \n595      0            0  mediterraan  \n596      0            0  mediterraan  \n597      0            0  mediterraan  \n598      0            0  mediterraan  \n599      0            0  mediterraan  \n\n[600 rows x 174 columns]",
      "text/html": "<div>\n<style scoped>\n    .dataframe tbody tr th:only-of-type {\n        vertical-align: middle;\n    }\n\n    .dataframe tbody tr th {\n        vertical-align: top;\n    }\n\n    .dataframe thead th {\n        text-align: right;\n    }\n</style>\n<table border=\"1\" class=\"dataframe\">\n  <thead>\n    <tr style=\"text-align: right;\">\n      <th></th>\n      <th>kokosmelk</th>\n      <th>water</th>\n      <th>chilivlokken</th>\n      <th>gemalen kaneel</th>\n      <th>sjalot</th>\n      <th>knoflook</th>\n      <th>rode peper</th>\n      <th>zout</th>\n      <th>vastkokende aardappel</th>\n      <th>zoete aardappel</th>\n      <th>...</th>\n      <th>(arachide)olie</th>\n      <th>tomatenblokjes</th>\n      <th>zoete puntpaprika</th>\n      <th>(olijf)olie</th>\n      <th>kruimige aardappelen</th>\n      <th>magere gerookte spekreepjes</th>\n      <th>takje rozemarijn</th>\n      <th>boter</th>\n      <th>aardappelen</th>\n      <th>kitchen</th>\n    </tr>\n  </thead>\n  <tbody>\n    <tr>\n      <th>0</th>\n      <td>0</td>\n      <td>0</td>\n      <td>1</td>\n      <td>1</td>\n      <td>1</td>\n      <td>1</td>\n      <td>0</td>\n      <td>1</td>\n      <td>0</td>\n      <td>0</td>\n      <td>...</td>\n      <td>0</td>\n      <td>0</td>\n      <td>0</td>\n      <td>0</td>\n      <td>0</td>\n      <td>0</td>\n      <td>1</td>\n      <td>0</td>\n      <td>0</td>\n      <td>frans</td>\n    </tr>\n    <tr>\n      <th>1</th>\n      <td>0</td>\n      <td>0</td>\n      <td>0</td>\n      <td>0</td>\n      <td>1</td>\n      <td>1</td>\n      <td>0</td>\n      <td>0</td>\n      <td>1</td>\n      <td>0</td>\n      <td>...</td>\n      <td>0</td>\n      <td>0</td>\n      <td>0</td>\n      <td>0</td>\n      <td>0</td>\n      <td>0</td>\n      <td>0</td>\n      <td>0</td>\n      <td>0</td>\n      <td>frans</td>\n    </tr>\n    <tr>\n      <th>2</th>\n      <td>0</td>\n      <td>1</td>\n      <td>0</td>\n      <td>0</td>\n      <td>1</td>\n      <td>1</td>\n      <td>0</td>\n      <td>1</td>\n      <td>0</td>\n      <td>0</td>\n      <td>...</td>\n      <td>0</td>\n      <td>0</td>\n      <td>0</td>\n      <td>0</td>\n      <td>0</td>\n      <td>1</td>\n      <td>0</td>\n      <td>0</td>\n      <td>0</td>\n      <td>frans</td>\n    </tr>\n    <tr>\n      <th>3</th>\n      <td>0</td>\n      <td>0</td>\n      <td>0</td>\n      <td>0</td>\n      <td>0</td>\n      <td>1</td>\n      <td>0</td>\n      <td>1</td>\n      <td>0</td>\n      <td>0</td>\n      <td>...</td>\n      <td>0</td>\n      <td>0</td>\n      <td>0</td>\n      <td>0</td>\n      <td>1</td>\n      <td>0</td>\n      <td>0</td>\n      <td>1</td>\n      <td>0</td>\n      <td>frans</td>\n    </tr>\n    <tr>\n      <th>4</th>\n      <td>0</td>\n      <td>0</td>\n      <td>0</td>\n      <td>0</td>\n      <td>0</td>\n      <td>1</td>\n      <td>0</td>\n      <td>0</td>\n      <td>1</td>\n      <td>0</td>\n      <td>...</td>\n      <td>0</td>\n      <td>0</td>\n      <td>0</td>\n      <td>0</td>\n      <td>0</td>\n      <td>0</td>\n      <td>0</td>\n      <td>0</td>\n      <td>0</td>\n      <td>frans</td>\n    </tr>\n    <tr>\n      <th>...</th>\n      <td>...</td>\n      <td>...</td>\n      <td>...</td>\n      <td>...</td>\n      <td>...</td>\n      <td>...</td>\n      <td>...</td>\n      <td>...</td>\n      <td>...</td>\n      <td>...</td>\n      <td>...</td>\n      <td>...</td>\n      <td>...</td>\n      <td>...</td>\n      <td>...</td>\n      <td>...</td>\n      <td>...</td>\n      <td>...</td>\n      <td>...</td>\n      <td>...</td>\n      <td>...</td>\n    </tr>\n    <tr>\n      <th>595</th>\n      <td>0</td>\n      <td>0</td>\n      <td>0</td>\n      <td>0</td>\n      <td>1</td>\n      <td>1</td>\n      <td>0</td>\n      <td>0</td>\n      <td>0</td>\n      <td>0</td>\n      <td>...</td>\n      <td>1</td>\n      <td>0</td>\n      <td>1</td>\n      <td>0</td>\n      <td>0</td>\n      <td>0</td>\n      <td>0</td>\n      <td>0</td>\n      <td>0</td>\n      <td>mediterraan</td>\n    </tr>\n    <tr>\n      <th>596</th>\n      <td>0</td>\n      <td>1</td>\n      <td>0</td>\n      <td>0</td>\n      <td>0</td>\n      <td>1</td>\n      <td>0</td>\n      <td>0</td>\n      <td>0</td>\n      <td>0</td>\n      <td>...</td>\n      <td>0</td>\n      <td>0</td>\n      <td>0</td>\n      <td>0</td>\n      <td>0</td>\n      <td>0</td>\n      <td>0</td>\n      <td>0</td>\n      <td>0</td>\n      <td>mediterraan</td>\n    </tr>\n    <tr>\n      <th>597</th>\n      <td>0</td>\n      <td>0</td>\n      <td>0</td>\n      <td>0</td>\n      <td>0</td>\n      <td>1</td>\n      <td>0</td>\n      <td>0</td>\n      <td>0</td>\n      <td>0</td>\n      <td>...</td>\n      <td>0</td>\n      <td>0</td>\n      <td>1</td>\n      <td>0</td>\n      <td>0</td>\n      <td>0</td>\n      <td>0</td>\n      <td>0</td>\n      <td>0</td>\n      <td>mediterraan</td>\n    </tr>\n    <tr>\n      <th>598</th>\n      <td>0</td>\n      <td>0</td>\n      <td>0</td>\n      <td>0</td>\n      <td>1</td>\n      <td>1</td>\n      <td>1</td>\n      <td>0</td>\n      <td>0</td>\n      <td>0</td>\n      <td>...</td>\n      <td>0</td>\n      <td>1</td>\n      <td>0</td>\n      <td>1</td>\n      <td>0</td>\n      <td>0</td>\n      <td>0</td>\n      <td>0</td>\n      <td>0</td>\n      <td>mediterraan</td>\n    </tr>\n    <tr>\n      <th>599</th>\n      <td>0</td>\n      <td>0</td>\n      <td>0</td>\n      <td>1</td>\n      <td>0</td>\n      <td>1</td>\n      <td>0</td>\n      <td>0</td>\n      <td>0</td>\n      <td>0</td>\n      <td>...</td>\n      <td>0</td>\n      <td>1</td>\n      <td>0</td>\n      <td>1</td>\n      <td>0</td>\n      <td>0</td>\n      <td>1</td>\n      <td>0</td>\n      <td>0</td>\n      <td>mediterraan</td>\n    </tr>\n  </tbody>\n</table>\n<p>600 rows × 174 columns</p>\n</div>"
     },
     "execution_count": 37,
     "metadata": {},
     "output_type": "execute_result"
    }
   ],
   "source": [
    "import pandas as pd\n",
    "from sklearn.neighbors import KNeighborsClassifier\n",
    "\n",
    "df_userdata = pd.read_csv('../../assets/userdata_min_40_v4.csv')\n",
    "\n",
    "df_userdata_min = df_userdata.drop(df_userdata.columns[0:11],axis =1 )\n",
    "df_userdata_min = df_userdata_min.drop('liked_recipes',axis =1 )\n",
    "\n",
    "df_train = df_userdata_min[:600]\n",
    "df_predict = df_userdata_min[-1:]\n",
    "X_df_predict = df_predict.drop('kitchen', axis = 1)\n",
    "y_df_predict = df_predict['kitchen']\n",
    "\n",
    "df_train"
   ]
  },
  {
   "cell_type": "code",
   "execution_count": 38,
   "id": "84b479cc",
   "metadata": {
    "pycharm": {
     "name": "#%%\n"
    }
   },
   "outputs": [
    {
     "name": "stdout",
     "output_type": "stream",
     "text": [
      "600\n"
     ]
    },
    {
     "name": "stderr",
     "output_type": "stream",
     "text": [
      "C:\\Users\\Milan\\AppData\\Local\\Temp\\ipykernel_27908\\2815728762.py:6: SettingWithCopyWarning: \n",
      "A value is trying to be set on a copy of a slice from a DataFrame\n",
      "\n",
      "See the caveats in the documentation: https://pandas.pydata.org/pandas-docs/stable/user_guide/indexing.html#returning-a-view-versus-a-copy\n",
      "  df_train['kitchen'].iloc[kitchen] = kitchens.index(df_train['kitchen'].iloc[kitchen])\n"
     ]
    }
   ],
   "source": [
    "kitchens = ['thais', 'aziatisch', 'frans', 'indonesisch', 'hollands', 'italiaans', 'mexicaans', 'amerikaans', 'mediterraan']\n",
    "\n",
    "print(len(df_train))\n",
    "\n",
    "for kitchen in range(len(df_train)):\n",
    "    df_train['kitchen'].iloc[kitchen] = kitchens.index(df_train['kitchen'].iloc[kitchen])\n"
   ]
  },
  {
   "cell_type": "code",
   "execution_count": 39,
   "id": "05057ee3",
   "metadata": {
    "pycharm": {
     "name": "#%%\n"
    }
   },
   "outputs": [],
   "source": [
    "y= df_train['kitchen']\n",
    "X = df_train.drop('kitchen', axis = 1)\n",
    "\n",
    "y=y.astype('int')"
   ]
  },
  {
   "cell_type": "code",
   "execution_count": 40,
   "id": "6ac3031a",
   "metadata": {
    "pycharm": {
     "name": "#%%\n"
    }
   },
   "outputs": [
    {
     "data": {
      "text/plain": "array([1])"
     },
     "execution_count": 40,
     "metadata": {},
     "output_type": "execute_result"
    }
   ],
   "source": [
    "model = KNeighborsClassifier(leaf_size=1, metric='euclidean', weights='distance')\n",
    "model.fit(X,y)\n",
    "y_proba = model.predict(X_df_predict)\n",
    "y_proba"
   ]
  },
  {
   "cell_type": "code",
   "execution_count": 41,
   "id": "52568af0",
   "metadata": {
    "pycharm": {
     "name": "#%%\n"
    }
   },
   "outputs": [
    {
     "name": "stdout",
     "output_type": "stream",
     "text": [
      "aziatisch\n"
     ]
    }
   ],
   "source": [
    "kitchen = \"\"\n",
    "\n",
    "for index in y_proba:\n",
    "    kitchen = kitchens[index]\n",
    "\n",
    "print(kitchen)"
   ]
  },
  {
   "cell_type": "code",
   "execution_count": 42,
   "id": "858e09c0",
   "metadata": {
    "pycharm": {
     "name": "#%%\n"
    }
   },
   "outputs": [
    {
     "name": "stderr",
     "output_type": "stream",
     "text": [
      "C:\\Users\\Milan\\AppData\\Local\\Temp\\ipykernel_27908\\1141724442.py:1: SettingWithCopyWarning: \n",
      "A value is trying to be set on a copy of a slice from a DataFrame\n",
      "\n",
      "See the caveats in the documentation: https://pandas.pydata.org/pandas-docs/stable/user_guide/indexing.html#returning-a-view-versus-a-copy\n",
      "  df_userdata.kitchen.iloc[-1] = kitchen\n"
     ]
    },
    {
     "data": {
      "text/plain": "     user_id  thais  aziatisch  frans  indonesisch  hollands  italiaans  \\\n0          1      0          0      1            0         0          0   \n1          2      0          0      1            0         0          0   \n2          3      0          0      1            0         0          0   \n3          4      0          0      1            0         0          0   \n4          5      0          0      1            0         0          1   \n..       ...    ...        ...    ...          ...       ...        ...   \n596      597      0          0      0            0         0          1   \n597      598      0          0      0            0         0          1   \n598      599      0          0      0            0         0          1   \n599      600      0          0      0            0         0          0   \n600      601      1          1      0            1         0          0   \n\n     mexicaans  amerikaans  mediterraan  ...  tomatenblokjes  \\\n0            0           0            0  ...               0   \n1            0           0            0  ...               0   \n2            0           0            0  ...               0   \n3            0           0            0  ...               0   \n4            0           0            1  ...               0   \n..         ...         ...          ...  ...             ...   \n596          0           0            1  ...               0   \n597          0           0            1  ...               0   \n598          0           0            1  ...               1   \n599          0           0            1  ...               1   \n600          0           0            0  ...               0   \n\n     zoete puntpaprika  (olijf)olie  kruimige aardappelen  \\\n0                    0            0                     0   \n1                    0            0                     0   \n2                    0            0                     0   \n3                    0            0                     1   \n4                    0            0                     0   \n..                 ...          ...                   ...   \n596                  0            0                     0   \n597                  1            0                     0   \n598                  0            1                     0   \n599                  0            1                     0   \n600                  0            1                     0   \n\n     magere gerookte spekreepjes  takje rozemarijn  boter  aardappelen  \\\n0                              0                 1      0            0   \n1                              0                 0      0            0   \n2                              1                 0      0            0   \n3                              0                 0      1            0   \n4                              0                 0      0            0   \n..                           ...               ...    ...          ...   \n596                            0                 0      0            0   \n597                            0                 0      0            0   \n598                            0                 0      0            0   \n599                            0                 1      0            0   \n600                            0                 0      0            0   \n\n         kitchen  liked_recipes  \n0          frans            NaN  \n1          frans            NaN  \n2          frans            NaN  \n3          frans            NaN  \n4          frans            NaN  \n..           ...            ...  \n596  mediterraan            NaN  \n597  mediterraan            NaN  \n598  mediterraan            NaN  \n599  mediterraan            NaN  \n600    aziatisch            NaN  \n\n[601 rows x 186 columns]",
      "text/html": "<div>\n<style scoped>\n    .dataframe tbody tr th:only-of-type {\n        vertical-align: middle;\n    }\n\n    .dataframe tbody tr th {\n        vertical-align: top;\n    }\n\n    .dataframe thead th {\n        text-align: right;\n    }\n</style>\n<table border=\"1\" class=\"dataframe\">\n  <thead>\n    <tr style=\"text-align: right;\">\n      <th></th>\n      <th>user_id</th>\n      <th>thais</th>\n      <th>aziatisch</th>\n      <th>frans</th>\n      <th>indonesisch</th>\n      <th>hollands</th>\n      <th>italiaans</th>\n      <th>mexicaans</th>\n      <th>amerikaans</th>\n      <th>mediterraan</th>\n      <th>...</th>\n      <th>tomatenblokjes</th>\n      <th>zoete puntpaprika</th>\n      <th>(olijf)olie</th>\n      <th>kruimige aardappelen</th>\n      <th>magere gerookte spekreepjes</th>\n      <th>takje rozemarijn</th>\n      <th>boter</th>\n      <th>aardappelen</th>\n      <th>kitchen</th>\n      <th>liked_recipes</th>\n    </tr>\n  </thead>\n  <tbody>\n    <tr>\n      <th>0</th>\n      <td>1</td>\n      <td>0</td>\n      <td>0</td>\n      <td>1</td>\n      <td>0</td>\n      <td>0</td>\n      <td>0</td>\n      <td>0</td>\n      <td>0</td>\n      <td>0</td>\n      <td>...</td>\n      <td>0</td>\n      <td>0</td>\n      <td>0</td>\n      <td>0</td>\n      <td>0</td>\n      <td>1</td>\n      <td>0</td>\n      <td>0</td>\n      <td>frans</td>\n      <td>NaN</td>\n    </tr>\n    <tr>\n      <th>1</th>\n      <td>2</td>\n      <td>0</td>\n      <td>0</td>\n      <td>1</td>\n      <td>0</td>\n      <td>0</td>\n      <td>0</td>\n      <td>0</td>\n      <td>0</td>\n      <td>0</td>\n      <td>...</td>\n      <td>0</td>\n      <td>0</td>\n      <td>0</td>\n      <td>0</td>\n      <td>0</td>\n      <td>0</td>\n      <td>0</td>\n      <td>0</td>\n      <td>frans</td>\n      <td>NaN</td>\n    </tr>\n    <tr>\n      <th>2</th>\n      <td>3</td>\n      <td>0</td>\n      <td>0</td>\n      <td>1</td>\n      <td>0</td>\n      <td>0</td>\n      <td>0</td>\n      <td>0</td>\n      <td>0</td>\n      <td>0</td>\n      <td>...</td>\n      <td>0</td>\n      <td>0</td>\n      <td>0</td>\n      <td>0</td>\n      <td>1</td>\n      <td>0</td>\n      <td>0</td>\n      <td>0</td>\n      <td>frans</td>\n      <td>NaN</td>\n    </tr>\n    <tr>\n      <th>3</th>\n      <td>4</td>\n      <td>0</td>\n      <td>0</td>\n      <td>1</td>\n      <td>0</td>\n      <td>0</td>\n      <td>0</td>\n      <td>0</td>\n      <td>0</td>\n      <td>0</td>\n      <td>...</td>\n      <td>0</td>\n      <td>0</td>\n      <td>0</td>\n      <td>1</td>\n      <td>0</td>\n      <td>0</td>\n      <td>1</td>\n      <td>0</td>\n      <td>frans</td>\n      <td>NaN</td>\n    </tr>\n    <tr>\n      <th>4</th>\n      <td>5</td>\n      <td>0</td>\n      <td>0</td>\n      <td>1</td>\n      <td>0</td>\n      <td>0</td>\n      <td>1</td>\n      <td>0</td>\n      <td>0</td>\n      <td>1</td>\n      <td>...</td>\n      <td>0</td>\n      <td>0</td>\n      <td>0</td>\n      <td>0</td>\n      <td>0</td>\n      <td>0</td>\n      <td>0</td>\n      <td>0</td>\n      <td>frans</td>\n      <td>NaN</td>\n    </tr>\n    <tr>\n      <th>...</th>\n      <td>...</td>\n      <td>...</td>\n      <td>...</td>\n      <td>...</td>\n      <td>...</td>\n      <td>...</td>\n      <td>...</td>\n      <td>...</td>\n      <td>...</td>\n      <td>...</td>\n      <td>...</td>\n      <td>...</td>\n      <td>...</td>\n      <td>...</td>\n      <td>...</td>\n      <td>...</td>\n      <td>...</td>\n      <td>...</td>\n      <td>...</td>\n      <td>...</td>\n      <td>...</td>\n    </tr>\n    <tr>\n      <th>596</th>\n      <td>597</td>\n      <td>0</td>\n      <td>0</td>\n      <td>0</td>\n      <td>0</td>\n      <td>0</td>\n      <td>1</td>\n      <td>0</td>\n      <td>0</td>\n      <td>1</td>\n      <td>...</td>\n      <td>0</td>\n      <td>0</td>\n      <td>0</td>\n      <td>0</td>\n      <td>0</td>\n      <td>0</td>\n      <td>0</td>\n      <td>0</td>\n      <td>mediterraan</td>\n      <td>NaN</td>\n    </tr>\n    <tr>\n      <th>597</th>\n      <td>598</td>\n      <td>0</td>\n      <td>0</td>\n      <td>0</td>\n      <td>0</td>\n      <td>0</td>\n      <td>1</td>\n      <td>0</td>\n      <td>0</td>\n      <td>1</td>\n      <td>...</td>\n      <td>0</td>\n      <td>1</td>\n      <td>0</td>\n      <td>0</td>\n      <td>0</td>\n      <td>0</td>\n      <td>0</td>\n      <td>0</td>\n      <td>mediterraan</td>\n      <td>NaN</td>\n    </tr>\n    <tr>\n      <th>598</th>\n      <td>599</td>\n      <td>0</td>\n      <td>0</td>\n      <td>0</td>\n      <td>0</td>\n      <td>0</td>\n      <td>1</td>\n      <td>0</td>\n      <td>0</td>\n      <td>1</td>\n      <td>...</td>\n      <td>1</td>\n      <td>0</td>\n      <td>1</td>\n      <td>0</td>\n      <td>0</td>\n      <td>0</td>\n      <td>0</td>\n      <td>0</td>\n      <td>mediterraan</td>\n      <td>NaN</td>\n    </tr>\n    <tr>\n      <th>599</th>\n      <td>600</td>\n      <td>0</td>\n      <td>0</td>\n      <td>0</td>\n      <td>0</td>\n      <td>0</td>\n      <td>0</td>\n      <td>0</td>\n      <td>0</td>\n      <td>1</td>\n      <td>...</td>\n      <td>1</td>\n      <td>0</td>\n      <td>1</td>\n      <td>0</td>\n      <td>0</td>\n      <td>1</td>\n      <td>0</td>\n      <td>0</td>\n      <td>mediterraan</td>\n      <td>NaN</td>\n    </tr>\n    <tr>\n      <th>600</th>\n      <td>601</td>\n      <td>1</td>\n      <td>1</td>\n      <td>0</td>\n      <td>1</td>\n      <td>0</td>\n      <td>0</td>\n      <td>0</td>\n      <td>0</td>\n      <td>0</td>\n      <td>...</td>\n      <td>0</td>\n      <td>0</td>\n      <td>1</td>\n      <td>0</td>\n      <td>0</td>\n      <td>0</td>\n      <td>0</td>\n      <td>0</td>\n      <td>aziatisch</td>\n      <td>NaN</td>\n    </tr>\n  </tbody>\n</table>\n<p>601 rows × 186 columns</p>\n</div>"
     },
     "execution_count": 42,
     "metadata": {},
     "output_type": "execute_result"
    }
   ],
   "source": [
    "df_userdata.kitchen.iloc[-1] = kitchen\n",
    "df_userdata"
   ]
  },
  {
   "cell_type": "code",
   "execution_count": 43,
   "outputs": [],
   "source": [
    "df_userdata.to_csv(\"../../assets/userdata_min_40_v4.csv\")"
   ],
   "metadata": {
    "collapsed": false,
    "pycharm": {
     "name": "#%%\n"
    }
   }
  }
 ],
 "metadata": {
  "kernelspec": {
   "name": "python3",
   "language": "python",
   "display_name": "Python 3 (ipykernel)"
  },
  "language_info": {
   "codemirror_mode": {
    "name": "ipython",
    "version": 3
   },
   "file_extension": ".py",
   "mimetype": "text/x-python",
   "name": "python",
   "nbconvert_exporter": "python",
   "pygments_lexer": "ipython3",
   "version": "3.9.13"
  }
 },
 "nbformat": 4,
 "nbformat_minor": 5
}